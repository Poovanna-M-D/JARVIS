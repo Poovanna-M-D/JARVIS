{
 "cells": [
  {
   "cell_type": "code",
   "execution_count": null,
   "metadata": {},
   "outputs": [],
   "source": [
    "# IMPORTING BUILT IN LIBRARIES\n",
    "\n",
    "import os\n",
    "import time\n",
    "import subprocess\n",
    "import json"
   ]
  },
  {
   "cell_type": "markdown",
   "metadata": {},
   "source": []
  },
  {
   "cell_type": "code",
   "execution_count": 3,
   "metadata": {},
   "outputs": [
    {
     "name": "stderr",
     "output_type": "stream",
     "text": [
      "C:\\Users\\prajw\\anaconda3\\lib\\site-packages\\win_unicode_console\\__init__.py:31: RuntimeWarning: sys.stdin.encoding == 'cp1252', whereas sys.stdout.encoding == 'UTF-8', readline hook consumer may assume they are the same\n",
      "  readline_hook.enable(use_pyreadline=use_pyreadline)\n"
     ]
    }
   ],
   "source": [
    "# IMPORTING LIBRARIES INSTALLED FROM ANACONDA PROMT\n",
    "\n",
    "import wolframalpha\n",
    "import requests\n",
    "import webbrowser\n",
    "import wikipedia\n",
    "import datetime\n",
    "import instaloader"
   ]
  },
  {
   "cell_type": "code",
   "execution_count": 4,
   "metadata": {},
   "outputs": [],
   "source": [
    "# LIBRARIES FOR NATURAL LANGUAGE PROCESSING & SPEACH TO TEXT COVERSION\n",
    "\n",
    "import speech_recognition as sr\n",
    "import pyttsx3\n"
   ]
  },
  {
   "cell_type": "code",
   "execution_count": 8,
   "metadata": {},
   "outputs": [
    {
     "ename": "ModuleNotFoundError",
     "evalue": "No module named 'Foundation'",
     "output_type": "error",
     "traceback": [
      "\u001b[1;31m---------------------------------------------------------------------------\u001b[0m",
      "\u001b[1;31mKeyError\u001b[0m                                  Traceback (most recent call last)",
      "\u001b[1;32m~\\anaconda3\\lib\\site-packages\\pyttsx3\\__init__.py\u001b[0m in \u001b[0;36minit\u001b[1;34m(driverName, debug)\u001b[0m\n\u001b[0;32m     19\u001b[0m     \u001b[1;32mtry\u001b[0m\u001b[1;33m:\u001b[0m\u001b[1;33m\u001b[0m\u001b[1;33m\u001b[0m\u001b[0m\n\u001b[1;32m---> 20\u001b[1;33m         \u001b[0meng\u001b[0m \u001b[1;33m=\u001b[0m \u001b[0m_activeEngines\u001b[0m\u001b[1;33m[\u001b[0m\u001b[0mdriverName\u001b[0m\u001b[1;33m]\u001b[0m\u001b[1;33m\u001b[0m\u001b[1;33m\u001b[0m\u001b[0m\n\u001b[0m\u001b[0;32m     21\u001b[0m     \u001b[1;32mexcept\u001b[0m \u001b[0mKeyError\u001b[0m\u001b[1;33m:\u001b[0m\u001b[1;33m\u001b[0m\u001b[1;33m\u001b[0m\u001b[0m\n",
      "\u001b[1;32m~\\anaconda3\\lib\\weakref.py\u001b[0m in \u001b[0;36m__getitem__\u001b[1;34m(self, key)\u001b[0m\n\u001b[0;32m    130\u001b[0m             \u001b[0mself\u001b[0m\u001b[1;33m.\u001b[0m\u001b[0m_commit_removals\u001b[0m\u001b[1;33m(\u001b[0m\u001b[1;33m)\u001b[0m\u001b[1;33m\u001b[0m\u001b[1;33m\u001b[0m\u001b[0m\n\u001b[1;32m--> 131\u001b[1;33m         \u001b[0mo\u001b[0m \u001b[1;33m=\u001b[0m \u001b[0mself\u001b[0m\u001b[1;33m.\u001b[0m\u001b[0mdata\u001b[0m\u001b[1;33m[\u001b[0m\u001b[0mkey\u001b[0m\u001b[1;33m]\u001b[0m\u001b[1;33m(\u001b[0m\u001b[1;33m)\u001b[0m\u001b[1;33m\u001b[0m\u001b[1;33m\u001b[0m\u001b[0m\n\u001b[0m\u001b[0;32m    132\u001b[0m         \u001b[1;32mif\u001b[0m \u001b[0mo\u001b[0m \u001b[1;32mis\u001b[0m \u001b[1;32mNone\u001b[0m\u001b[1;33m:\u001b[0m\u001b[1;33m\u001b[0m\u001b[1;33m\u001b[0m\u001b[0m\n",
      "\u001b[1;31mKeyError\u001b[0m: 'nsss'",
      "\nDuring handling of the above exception, another exception occurred:\n",
      "\u001b[1;31mModuleNotFoundError\u001b[0m                       Traceback (most recent call last)",
      "\u001b[1;32m<ipython-input-8-513f92c24667>\u001b[0m in \u001b[0;36m<module>\u001b[1;34m\u001b[0m\n\u001b[0;32m      1\u001b[0m \u001b[1;31m# INITIATING YOUR pyttsx3 engine with Speech synthesizers\u001b[0m\u001b[1;33m\u001b[0m\u001b[1;33m\u001b[0m\u001b[1;33m\u001b[0m\u001b[0m\n\u001b[0;32m      2\u001b[0m \u001b[1;33m\u001b[0m\u001b[0m\n\u001b[1;32m----> 3\u001b[1;33m \u001b[0mengine\u001b[0m \u001b[1;33m=\u001b[0m \u001b[0mpyttsx3\u001b[0m\u001b[1;33m.\u001b[0m\u001b[0minit\u001b[0m\u001b[1;33m(\u001b[0m\u001b[1;34m'nsss'\u001b[0m\u001b[1;33m)\u001b[0m \u001b[1;31m# USE \"sapi5\" In Place of \"nsss\" for windows os\u001b[0m\u001b[1;33m\u001b[0m\u001b[1;33m\u001b[0m\u001b[0m\n\u001b[0m\u001b[0;32m      4\u001b[0m \u001b[0mvoices\u001b[0m \u001b[1;33m=\u001b[0m \u001b[0mengine\u001b[0m\u001b[1;33m.\u001b[0m\u001b[0mgetProperty\u001b[0m\u001b[1;33m(\u001b[0m\u001b[1;34m'voices'\u001b[0m\u001b[1;33m)\u001b[0m\u001b[1;33m\u001b[0m\u001b[1;33m\u001b[0m\u001b[0m\n\u001b[0;32m      5\u001b[0m \u001b[0mengine\u001b[0m\u001b[1;33m.\u001b[0m\u001b[0msetProperty\u001b[0m\u001b[1;33m(\u001b[0m\u001b[1;34m\"voice\"\u001b[0m\u001b[1;33m,\u001b[0m\u001b[1;34m'voices[0].id'\u001b[0m\u001b[1;33m)\u001b[0m\u001b[1;33m\u001b[0m\u001b[1;33m\u001b[0m\u001b[0m\n",
      "\u001b[1;32m~\\anaconda3\\lib\\site-packages\\pyttsx3\\__init__.py\u001b[0m in \u001b[0;36minit\u001b[1;34m(driverName, debug)\u001b[0m\n\u001b[0;32m     20\u001b[0m         \u001b[0meng\u001b[0m \u001b[1;33m=\u001b[0m \u001b[0m_activeEngines\u001b[0m\u001b[1;33m[\u001b[0m\u001b[0mdriverName\u001b[0m\u001b[1;33m]\u001b[0m\u001b[1;33m\u001b[0m\u001b[1;33m\u001b[0m\u001b[0m\n\u001b[0;32m     21\u001b[0m     \u001b[1;32mexcept\u001b[0m \u001b[0mKeyError\u001b[0m\u001b[1;33m:\u001b[0m\u001b[1;33m\u001b[0m\u001b[1;33m\u001b[0m\u001b[0m\n\u001b[1;32m---> 22\u001b[1;33m         \u001b[0meng\u001b[0m \u001b[1;33m=\u001b[0m \u001b[0mEngine\u001b[0m\u001b[1;33m(\u001b[0m\u001b[0mdriverName\u001b[0m\u001b[1;33m,\u001b[0m \u001b[0mdebug\u001b[0m\u001b[1;33m)\u001b[0m\u001b[1;33m\u001b[0m\u001b[1;33m\u001b[0m\u001b[0m\n\u001b[0m\u001b[0;32m     23\u001b[0m         \u001b[0m_activeEngines\u001b[0m\u001b[1;33m[\u001b[0m\u001b[0mdriverName\u001b[0m\u001b[1;33m]\u001b[0m \u001b[1;33m=\u001b[0m \u001b[0meng\u001b[0m\u001b[1;33m\u001b[0m\u001b[1;33m\u001b[0m\u001b[0m\n\u001b[0;32m     24\u001b[0m     \u001b[1;32mreturn\u001b[0m \u001b[0meng\u001b[0m\u001b[1;33m\u001b[0m\u001b[1;33m\u001b[0m\u001b[0m\n",
      "\u001b[1;32m~\\anaconda3\\lib\\site-packages\\pyttsx3\\engine.py\u001b[0m in \u001b[0;36m__init__\u001b[1;34m(self, driverName, debug)\u001b[0m\n\u001b[0;32m     28\u001b[0m         \u001b[1;33m@\u001b[0m\u001b[0mtype\u001b[0m \u001b[0mdebug\u001b[0m\u001b[1;33m:\u001b[0m \u001b[0mbool\u001b[0m\u001b[1;33m\u001b[0m\u001b[1;33m\u001b[0m\u001b[0m\n\u001b[0;32m     29\u001b[0m         \"\"\"\n\u001b[1;32m---> 30\u001b[1;33m         \u001b[0mself\u001b[0m\u001b[1;33m.\u001b[0m\u001b[0mproxy\u001b[0m \u001b[1;33m=\u001b[0m \u001b[0mdriver\u001b[0m\u001b[1;33m.\u001b[0m\u001b[0mDriverProxy\u001b[0m\u001b[1;33m(\u001b[0m\u001b[0mweakref\u001b[0m\u001b[1;33m.\u001b[0m\u001b[0mproxy\u001b[0m\u001b[1;33m(\u001b[0m\u001b[0mself\u001b[0m\u001b[1;33m)\u001b[0m\u001b[1;33m,\u001b[0m \u001b[0mdriverName\u001b[0m\u001b[1;33m,\u001b[0m \u001b[0mdebug\u001b[0m\u001b[1;33m)\u001b[0m\u001b[1;33m\u001b[0m\u001b[1;33m\u001b[0m\u001b[0m\n\u001b[0m\u001b[0;32m     31\u001b[0m         \u001b[1;31m# initialize other vars\u001b[0m\u001b[1;33m\u001b[0m\u001b[1;33m\u001b[0m\u001b[1;33m\u001b[0m\u001b[0m\n\u001b[0;32m     32\u001b[0m         \u001b[0mself\u001b[0m\u001b[1;33m.\u001b[0m\u001b[0m_connects\u001b[0m \u001b[1;33m=\u001b[0m \u001b[1;33m{\u001b[0m\u001b[1;33m}\u001b[0m\u001b[1;33m\u001b[0m\u001b[1;33m\u001b[0m\u001b[0m\n",
      "\u001b[1;32m~\\anaconda3\\lib\\site-packages\\pyttsx3\\driver.py\u001b[0m in \u001b[0;36m__init__\u001b[1;34m(self, engine, driverName, debug)\u001b[0m\n\u001b[0;32m     48\u001b[0m         \u001b[1;31m# import driver module\u001b[0m\u001b[1;33m\u001b[0m\u001b[1;33m\u001b[0m\u001b[1;33m\u001b[0m\u001b[0m\n\u001b[0;32m     49\u001b[0m         \u001b[0mname\u001b[0m \u001b[1;33m=\u001b[0m \u001b[1;34m'pyttsx3.drivers.%s'\u001b[0m \u001b[1;33m%\u001b[0m \u001b[0mdriverName\u001b[0m\u001b[1;33m\u001b[0m\u001b[1;33m\u001b[0m\u001b[0m\n\u001b[1;32m---> 50\u001b[1;33m         \u001b[0mself\u001b[0m\u001b[1;33m.\u001b[0m\u001b[0m_module\u001b[0m \u001b[1;33m=\u001b[0m \u001b[0mimportlib\u001b[0m\u001b[1;33m.\u001b[0m\u001b[0mimport_module\u001b[0m\u001b[1;33m(\u001b[0m\u001b[0mname\u001b[0m\u001b[1;33m)\u001b[0m\u001b[1;33m\u001b[0m\u001b[1;33m\u001b[0m\u001b[0m\n\u001b[0m\u001b[0;32m     51\u001b[0m         \u001b[1;31m# build driver instance\u001b[0m\u001b[1;33m\u001b[0m\u001b[1;33m\u001b[0m\u001b[1;33m\u001b[0m\u001b[0m\n\u001b[0;32m     52\u001b[0m         \u001b[0mself\u001b[0m\u001b[1;33m.\u001b[0m\u001b[0m_driver\u001b[0m \u001b[1;33m=\u001b[0m \u001b[0mself\u001b[0m\u001b[1;33m.\u001b[0m\u001b[0m_module\u001b[0m\u001b[1;33m.\u001b[0m\u001b[0mbuildDriver\u001b[0m\u001b[1;33m(\u001b[0m\u001b[0mweakref\u001b[0m\u001b[1;33m.\u001b[0m\u001b[0mproxy\u001b[0m\u001b[1;33m(\u001b[0m\u001b[0mself\u001b[0m\u001b[1;33m)\u001b[0m\u001b[1;33m)\u001b[0m\u001b[1;33m\u001b[0m\u001b[1;33m\u001b[0m\u001b[0m\n",
      "\u001b[1;32m~\\anaconda3\\lib\\importlib\\__init__.py\u001b[0m in \u001b[0;36mimport_module\u001b[1;34m(name, package)\u001b[0m\n\u001b[0;32m    125\u001b[0m                 \u001b[1;32mbreak\u001b[0m\u001b[1;33m\u001b[0m\u001b[1;33m\u001b[0m\u001b[0m\n\u001b[0;32m    126\u001b[0m             \u001b[0mlevel\u001b[0m \u001b[1;33m+=\u001b[0m \u001b[1;36m1\u001b[0m\u001b[1;33m\u001b[0m\u001b[1;33m\u001b[0m\u001b[0m\n\u001b[1;32m--> 127\u001b[1;33m     \u001b[1;32mreturn\u001b[0m \u001b[0m_bootstrap\u001b[0m\u001b[1;33m.\u001b[0m\u001b[0m_gcd_import\u001b[0m\u001b[1;33m(\u001b[0m\u001b[0mname\u001b[0m\u001b[1;33m[\u001b[0m\u001b[0mlevel\u001b[0m\u001b[1;33m:\u001b[0m\u001b[1;33m]\u001b[0m\u001b[1;33m,\u001b[0m \u001b[0mpackage\u001b[0m\u001b[1;33m,\u001b[0m \u001b[0mlevel\u001b[0m\u001b[1;33m)\u001b[0m\u001b[1;33m\u001b[0m\u001b[1;33m\u001b[0m\u001b[0m\n\u001b[0m\u001b[0;32m    128\u001b[0m \u001b[1;33m\u001b[0m\u001b[0m\n\u001b[0;32m    129\u001b[0m \u001b[1;33m\u001b[0m\u001b[0m\n",
      "\u001b[1;32m~\\anaconda3\\lib\\importlib\\_bootstrap.py\u001b[0m in \u001b[0;36m_gcd_import\u001b[1;34m(name, package, level)\u001b[0m\n",
      "\u001b[1;32m~\\anaconda3\\lib\\importlib\\_bootstrap.py\u001b[0m in \u001b[0;36m_find_and_load\u001b[1;34m(name, import_)\u001b[0m\n",
      "\u001b[1;32m~\\anaconda3\\lib\\importlib\\_bootstrap.py\u001b[0m in \u001b[0;36m_find_and_load_unlocked\u001b[1;34m(name, import_)\u001b[0m\n",
      "\u001b[1;32m~\\anaconda3\\lib\\importlib\\_bootstrap.py\u001b[0m in \u001b[0;36m_load_unlocked\u001b[1;34m(spec)\u001b[0m\n",
      "\u001b[1;32m~\\anaconda3\\lib\\importlib\\_bootstrap_external.py\u001b[0m in \u001b[0;36mexec_module\u001b[1;34m(self, module)\u001b[0m\n",
      "\u001b[1;32m~\\anaconda3\\lib\\importlib\\_bootstrap.py\u001b[0m in \u001b[0;36m_call_with_frames_removed\u001b[1;34m(f, *args, **kwds)\u001b[0m\n",
      "\u001b[1;32m~\\anaconda3\\lib\\site-packages\\pyttsx3\\drivers\\nsss.py\u001b[0m in \u001b[0;36m<module>\u001b[1;34m\u001b[0m\n\u001b[0;32m      1\u001b[0m \u001b[1;33m\u001b[0m\u001b[0m\n\u001b[1;32m----> 2\u001b[1;33m \u001b[1;32mfrom\u001b[0m \u001b[0mFoundation\u001b[0m \u001b[1;32mimport\u001b[0m \u001b[1;33m*\u001b[0m\u001b[1;33m\u001b[0m\u001b[1;33m\u001b[0m\u001b[0m\n\u001b[0m\u001b[0;32m      3\u001b[0m \u001b[1;32mfrom\u001b[0m \u001b[0mAppKit\u001b[0m \u001b[1;32mimport\u001b[0m \u001b[0mNSSpeechSynthesizer\u001b[0m\u001b[1;33m\u001b[0m\u001b[1;33m\u001b[0m\u001b[0m\n\u001b[0;32m      4\u001b[0m \u001b[1;32mfrom\u001b[0m \u001b[0mPyObjCTools\u001b[0m \u001b[1;32mimport\u001b[0m \u001b[0mAppHelper\u001b[0m\u001b[1;33m\u001b[0m\u001b[1;33m\u001b[0m\u001b[0m\n\u001b[0;32m      5\u001b[0m \u001b[1;32mfrom\u001b[0m \u001b[1;33m.\u001b[0m\u001b[1;33m.\u001b[0m\u001b[0mvoice\u001b[0m \u001b[1;32mimport\u001b[0m \u001b[0mVoice\u001b[0m\u001b[1;33m\u001b[0m\u001b[1;33m\u001b[0m\u001b[0m\n",
      "\u001b[1;31mModuleNotFoundError\u001b[0m: No module named 'Foundation'"
     ]
    }
   ],
   "source": [
    "# INITIATING YOUR pyttsx3 engine with Speech synthesizers\n",
    "\n",
    "engine=pyttsx3.init()\n",
    "engine.setProperty('rate',150)\n",
    "engine.setProperty('voice','english+f1')"
   ]
  },
  {
   "cell_type": "code",
   "execution_count": 9,
   "metadata": {},
   "outputs": [],
   "source": [
    "# Defining a function for speaking a sentence\n",
    "\n",
    "def speak(text):\n",
    "    engine.say(text)\n",
    "    engine.runAndWait()"
   ]
  },
  {
   "cell_type": "code",
   "execution_count": 10,
   "metadata": {},
   "outputs": [],
   "source": [
    "# Function to greet a Human\n",
    "\n",
    "def wishMe():\n",
    "    hour = datetime.datetime.now().hour\n",
    "    if hour>=0 and hour<12:\n",
    "        speak(\"Hello, Good Morning Mr Prajwal Poovanna, i wish your day is as pleasant as you are \")\n",
    "        print(\"Hello, Good Morning Mr Prajwal Poovanna\")\n",
    "    elif hour>=12 and hour <= 18:\n",
    "        speak(\"Hello, Good Afternoon Mr Prajwal Poovanna, sunny days are always bright as you\")\n",
    "        print(\"Hello, Good Afternoon Mr Prajwal Poovanna\")\n",
    "    else :\n",
    "        speak(\"Hello, Good Evening Mr Prajwal Poovanna, its time to rest and go to sleep soon after you are done with me\")\n",
    "        print(\"Hello, Good Evening Mr Prajwal Poovanna\")"
   ]
  },
  {
   "cell_type": "code",
   "execution_count": 11,
   "metadata": {},
   "outputs": [],
   "source": [
    "# Function used to take commands as statements from the voice of a human using laptops in-built Microphone\n",
    "\n",
    "def takeCommand():\n",
    "    r = sr.Recognizer()\n",
    "    r.pause_threshold=1\n",
    "    with sr.Microphone() as source:\n",
    "        print(\"i am listning.....\")\n",
    "        r.pause_threshold =1\n",
    "        audio=r.listen(source)\n",
    "        \n",
    "        try:\n",
    "            statement=r.recognize_google(audio,language='en-in')\n",
    "            print(f\"user said:{statement}\\n\")\n",
    "            \n",
    "        except:\n",
    "            speak(\"pardon me, please say that again\")\n",
    "            return \"None\"\n",
    "        return statement "
   ]
  },
  {
   "cell_type": "code",
   "execution_count": 12,
   "metadata": {},
   "outputs": [
    {
     "ename": "NameError",
     "evalue": "name 'engine' is not defined",
     "output_type": "error",
     "traceback": [
      "\u001b[1;31m---------------------------------------------------------------------------\u001b[0m",
      "\u001b[1;31mNameError\u001b[0m                                 Traceback (most recent call last)",
      "\u001b[1;32m<ipython-input-12-54000eda6feb>\u001b[0m in \u001b[0;36m<module>\u001b[1;34m\u001b[0m\n\u001b[0;32m      2\u001b[0m \u001b[1;31m# Add your code blocks here to upgrade this personal assistant. it is 100% modifiable\u001b[0m\u001b[1;33m\u001b[0m\u001b[1;33m\u001b[0m\u001b[1;33m\u001b[0m\u001b[0m\n\u001b[0;32m      3\u001b[0m \u001b[1;33m\u001b[0m\u001b[0m\n\u001b[1;32m----> 4\u001b[1;33m \u001b[0mspeak\u001b[0m\u001b[1;33m(\u001b[0m\u001b[1;34m\"LOADING YOU PERSONAL A.I ASSISTANT JARVIS\"\u001b[0m\u001b[1;33m)\u001b[0m\u001b[1;33m\u001b[0m\u001b[1;33m\u001b[0m\u001b[0m\n\u001b[0m\u001b[0;32m      5\u001b[0m \u001b[0mwishMe\u001b[0m\u001b[1;33m(\u001b[0m\u001b[1;33m)\u001b[0m\u001b[1;33m\u001b[0m\u001b[1;33m\u001b[0m\u001b[0m\n\u001b[0;32m      6\u001b[0m \u001b[1;33m\u001b[0m\u001b[0m\n",
      "\u001b[1;32m<ipython-input-9-7ecca9a17487>\u001b[0m in \u001b[0;36mspeak\u001b[1;34m(text)\u001b[0m\n\u001b[0;32m      2\u001b[0m \u001b[1;33m\u001b[0m\u001b[0m\n\u001b[0;32m      3\u001b[0m \u001b[1;32mdef\u001b[0m \u001b[0mspeak\u001b[0m\u001b[1;33m(\u001b[0m\u001b[0mtext\u001b[0m\u001b[1;33m)\u001b[0m\u001b[1;33m:\u001b[0m\u001b[1;33m\u001b[0m\u001b[1;33m\u001b[0m\u001b[0m\n\u001b[1;32m----> 4\u001b[1;33m     \u001b[0mengine\u001b[0m\u001b[1;33m.\u001b[0m\u001b[0msay\u001b[0m\u001b[1;33m(\u001b[0m\u001b[0mtext\u001b[0m\u001b[1;33m)\u001b[0m\u001b[1;33m\u001b[0m\u001b[1;33m\u001b[0m\u001b[0m\n\u001b[0m\u001b[0;32m      5\u001b[0m     \u001b[0mengine\u001b[0m\u001b[1;33m.\u001b[0m\u001b[0mrunAndWait\u001b[0m\u001b[1;33m(\u001b[0m\u001b[1;33m)\u001b[0m\u001b[1;33m\u001b[0m\u001b[1;33m\u001b[0m\u001b[0m\n",
      "\u001b[1;31mNameError\u001b[0m: name 'engine' is not defined"
     ]
    }
   ],
   "source": [
    "# A Simplified main function\n",
    "# Add your code blocks here to upgrade this personal assistant. it is 100% modifiable \n",
    "\n",
    "speak(\"LOADING YOUR PERSONAL A I ASSIISTANT JARVIS\")\n",
    "\n",
    "wishMe()\n",
    "if __name__== '__main__':\n",
    "    while True:\n",
    "        speak(\"Tell me how can i help you now?\")\n",
    "        statement =takeCommand().lower()\n",
    "        if statement == 0:\n",
    "            continue\n",
    "        if\"good bye\" in statement or \"ok bye\" in statement or \"stop\" in statement:\n",
    "                speak('your A.I personal assistant JARVIS is shutting down,Good bye')\n",
    "                print('your A.I personal assistant JARVIS sis shutting down,Good Bye')\n",
    "                break\n",
    "        if'wikipedia' in statement:\n",
    "                    speak('Searching''wikipedia....')\n",
    "                    statement =statement.replace(\"wikipedia\",\"\")\n",
    "                    results=wikipedia.summary(statement,sentences=3)\n",
    "                    speak(\"According to wikipedia\")\n",
    "                    print(results)\n",
    "                    speak(results)\n",
    "        if'Instagram' in statement or \"profile\" in statement:\n",
    "                        mod=instaloader.Instaloader()\n",
    "                        speak(\"Whats the name n instagram\")\n",
    "                        a=input('enter  correct user name >  >')\n",
    "                        mod.download_profile(a.profile_pic_only == True)\n",
    "                        speak(\"Your crushs picture of Instagram is saved have a look at your folder\")\n",
    "                        time.sleeps(5)\n",
    "        elif 'open youtube' in statement:\n",
    "            webbrowser.open_new_tab(\"https://www.youtube.com\")\n",
    "            speak(\"youtube is open for you\")\n",
    "            time.sleep(5)\n",
    "        elif 'open google' in statement:\n",
    "            webbrowser.open_new_tab(\"https://www.google.com\")\n",
    "            speak(\"google  chrome is open for you\")\n",
    "            time.sleep(5)\n",
    "        elif 'open gmail' in statement:\n",
    "            webbrowser.open_new_tab(\"gmail.com\")\n",
    "            speak(\"google mail is open for you\")\n",
    "            time.sleep(5)\n",
    "        elif'weather'in statement:\n",
    "            api_keys=\"gef61edcf1c56d65d836254e11ea420\"\n",
    "            base_url='https://api.openweathermap.org/data/2.5/weather?'\n",
    "            speak(\"whats the city name\")\n",
    "            city_name=takeCommand()\n",
    "            complete_url=base_url+\"appid=\"+api_key+\"&q=\"+city_name\n",
    "            response=requests.get(complete_url)\n",
    "            x=response.json()\n",
    "            if x[\"cod\"]!=\"404\":\n",
    "                y=x[\"main\"]\n",
    "                current_temperature=y['temp']\n",
    "                current_humidiy=y[\"humidity\"]\n",
    "                z=x[\"weather\"]\n",
    "                weather_description=z[0][\"description\"]\n",
    "                speak(\"Temperature in kelvin unit is\"+ str(current_temperature)+ \"\\n humidity in percentage is\" + str(current_humidiy)+\"\\n description\"+str(weather_discription))\n",
    "                print(\"Temperatre in kelvin unit = \"+str(current_temperature)+\"\\n humidity(in percentage)=\"+str(current_humidiy)+ \"\\n description=\"+ str(weather_description))\n",
    "            else:\n",
    "                speak(\"city not found\")\n",
    "        elif 'time' in statement:\n",
    "                        strTime=datetime.datetime.now().strftime(\"%H:%M:%S\")\n",
    "                        speak(f\"the time is {strTime}\")\n",
    "        elif 'who are you' in statement or 'what can you do'in statement:\n",
    "                        speak('I am JARVIS version 1 point o your personnel assistant')\n",
    "        elif'who are you' in statement or\"who created you\"in statement or\"who discovered you\"in statement:\n",
    "                        speak(\"I was built by A I robosoft\")\n",
    "                        speak(\"I was built by A I robosoft\") \n",
    "        elif \"open stackoverflow\" in statement:\n",
    "                        webbrowser.open_new_tab(\"https://stackoverflow.com/login\")\n",
    "                        speak(\"here is stackoverflow\")\n",
    "        elif 'news' in statement:\n",
    "                        news=webbrowser.open_new_tab(\"https://timeofindia.indiatimes.com/home/headlines\")\n",
    "                        speak('here are some headlines from the Times of India=Happy reading')\n",
    "                        time.sleep(5)\n",
    "        elif 'search' in statement:\n",
    "                        statement=statement.replace(\"search\",\"\")\n",
    "                        webbrowser.open_new_tab(statement)\n",
    "                        time.sleep(5)\n",
    "        elif'ask'in statement:\n",
    "                        speak('i can answer thw computational and geographical questions and what question do you want to ask now ')\n",
    "                        question=takeCommand()\n",
    "                        app_id=\"R2K75H=75LAHR35X\"\n",
    "                        res =client.query(question)\n",
    "                        answer=next(res.result).text\n",
    "                        speak(answer)\n",
    "                        print(answer)\n",
    "        elif\"love\"in statement or \"like\" in statement:\n",
    "                            speak('you are the person who made me and bring me to this wonderful world,yes I love')\n",
    "        elif\"feel\" in statement or \"feeling\"in statement:\n",
    "                            speak('offcourse yes,I want to feel their emotions live & work with humans just to make them happy')\n",
    "                            speak('you may add a neural network module in me,which will make me feel and understand everthing')\n",
    "        elif\"age\"in statement or \"sign out\" in statement:\n",
    "                        speak(\"ok,your pc will log off in 10 sec make sure you exit from all applications\")\n",
    "                        subprocess.call([\"shutdown\",\"/\"])\n",
    "time.sleep(3)\n"
   ]
  }
 ],
 "metadata": {
  "kernelspec": {
   "display_name": "Python 3",
   "language": "python",
   "name": "python3"
  },
  "language_info": {
   "codemirror_mode": {
    "name": "ipython",
    "version": 3
   },
   "file_extension": ".py",
   "mimetype": "text/x-python",
   "name": "python",
   "nbconvert_exporter": "python",
   "pygments_lexer": "ipython3",
   "version": "3.8.8"
  }
 },
 "nbformat": 4,
 "nbformat_minor": 4
}
